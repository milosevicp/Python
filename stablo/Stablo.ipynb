:
import pandas
from sklearn import tree
import pydotplus
from sklearn.tree import DecisionTreeClassifier
import matplotlib.pyplot as plt
import matplotlib.image as pltimg

df = pandas.read_excel("Book.xls",na_filter=False)
print (df)
d = {'': 0, 'SRB': 1}
df['Nacionalnost'] = df['Nacionalnost'].map(d)

d = {'general pukovnik': 0, 'pukovnik': 1, 'potpukovnik ':2, 'major ':3,'kapetan ':4,'poručnik ':5, 'potporučnik ':6, 
     'zastavnik ':7, 'stariji vodnik prve klase':8, 'stariji vodnik':9, 'vodnik ':10}

df['činovi '] = df['činovi '].map(d)

print (df)

features = ['Rank', 'iskustvo', 'Nacionalnost', 'činovi ']

X = df[features]
y = df['Rank']

dtree = DecisionTreeClassifier()
dtree = dtree.fit(x,y)
data = tree.export_graphviz(dtree, out_file=None, feature_names=features)
graph = pydotplus.graph_from_dot_data(data)
graph.write_png('mydecisiontree.png')

img=pltimg.imread('mydecisiontree.png')
imgplot = plt.imshow(img)
plt.show()
