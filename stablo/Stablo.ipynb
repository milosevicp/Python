 {  
"source": [
    "import pandas\n",
    "from sklearn import tree\n",
    "import pydotplus\n",
    "from sklearn.tree import DecisionTreeClassifier\n",
    "import matplotlib.pyplot as plt\n",
    "import matplotlib.image as pltimg\n",
    "\n",
    "df = pandas.read_excel(\"Book.xls\",na_filter=False)\n",
    "print (df)\n",
    "d = {'': 0, 'SRB': 1}\n",
    "df['Nacionalnost'] = df['Nacionalnost'].map(d)\n",
    "\n",
    "d = {'general pukovnik': 0, 'pukovnik': 1, 'potpukovnik ':2, 'major ':3,'kapetan ':4,'poručnik ':5, 'potporučnik ':6, \n",
    "     'zastavnik ':7, 'stariji vodnik prve klase':8, 'stariji vodnik':9, 'vodnik ':10}\n",
    "\n",
    "df['činovi '] = df['činovi '].map(d)\n",
    "\n",
    "print (df)\n",
    "\n",
    "features = ['Rank', 'iskustvo', 'Nacionalnost', 'činovi ']\n",
    "\n",
    "X = df[features]\n",
    "y = df['Rank']\n",
    "\n",
    "dtree = DecisionTreeClassifier()\n",
    "dtree = dtree.fit(x,y)\n",
    "data = tree.export_graphviz(dtree, out_file=None, feature_names=features)\n",
    "graph = pydotplus.graph_from_dot_data(data)\n",
    "graph.write_png('mydecisiontree.png')\n",
    "\n",
    "img=pltimg.imread('mydecisiontree.png')\n",
    "imgplot = plt.imshow(img)\n",
    "plt.show()\n"
   ]
  },
  {
   "cell_type": "code",
   "execution_count": null,
   "metadata": {},
   "outputs": [],
   "source": []
  }
 ],
 "metadata": {
  "kernelspec": {
   "display_name": "Python 3",
   "language": "python",
   "name": "python3"
  },
  "language_info": {
   "codemirror_mode": {
    "name": "ipython",
    "version": 3
   },
   "file_extension": ".py",
   "mimetype": "text/x-python",
   "name": "python",
   "nbconvert_exporter": "python",
   "pygments_lexer": "ipython3",
   "version": "3.8.5"
  }
 },
 "nbformat": 4,
 "nbformat_minor": 4
}
